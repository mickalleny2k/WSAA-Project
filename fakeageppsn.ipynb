{
 "cells": [
  {
   "cell_type": "markdown",
   "metadata": {},
   "source": [
    "# FAKE AGES AND PPS NUMBERS"
   ]
  },
  {
   "cell_type": "markdown",
   "metadata": {},
   "source": [
    "### Import Libraries"
   ]
  },
  {
   "cell_type": "code",
   "execution_count": 42,
   "metadata": {},
   "outputs": [],
   "source": [
    "import csv\n",
    "from random import randrange\n",
    "from random import randint \n",
    "import pandas as pd\n",
    "#import requests\n",
    "#import json\n",
    "import string\n",
    "import random"
   ]
  },
  {
   "cell_type": "markdown",
   "metadata": {},
   "source": [
    "### Generate Random Ages between 18 and 80"
   ]
  },
  {
   "cell_type": "code",
   "execution_count": 43,
   "metadata": {},
   "outputs": [
    {
     "name": "stdout",
     "output_type": "stream",
     "text": [
      "27\n",
      "34\n",
      "55\n",
      "33\n",
      "48\n",
      "56\n",
      "45\n",
      "71\n",
      "21\n"
     ]
    }
   ],
   "source": [
    "for n in range(1, 10):\n",
    "        values = randint(18,80)\n",
    "        print(values)"
   ]
  },
  {
   "cell_type": "markdown",
   "metadata": {},
   "source": [
    "### Generate Random Intgers for the PPSN"
   ]
  },
  {
   "cell_type": "code",
   "execution_count": 44,
   "metadata": {},
   "outputs": [
    {
     "name": "stdout",
     "output_type": "stream",
     "text": [
      "9440441\n",
      "3646995\n",
      "4460225\n",
      "8525768\n",
      "3338738\n",
      "9794906\n",
      "1504231\n",
      "4053885\n",
      "6620996\n"
     ]
    }
   ],
   "source": [
    "for n in range(1, 10):\n",
    "        values = randint(1000000,9999999)\n",
    "        print(values)"
   ]
  },
  {
   "cell_type": "markdown",
   "metadata": {},
   "source": [
    "### Generate Random Letters for the PPSN"
   ]
  },
  {
   "cell_type": "code",
   "execution_count": 45,
   "metadata": {},
   "outputs": [
    {
     "name": "stdout",
     "output_type": "stream",
     "text": [
      "h\n",
      "H\n",
      "H\n",
      "E\n",
      "X\n",
      "Y\n",
      "c\n",
      "i\n",
      "F\n"
     ]
    }
   ],
   "source": [
    "for n in range(1, 10):\n",
    "    # Randomly choose a letter from all the ascii_letters\n",
    "    randomLetter = random.choice(string.ascii_letters)\n",
    "    print(randomLetter)"
   ]
  },
  {
   "cell_type": "markdown",
   "metadata": {},
   "source": [
    "### Generate 532 Random PPSN"
   ]
  },
  {
   "cell_type": "code",
   "execution_count": 46,
   "metadata": {},
   "outputs": [
    {
     "name": "stdout",
     "output_type": "stream",
     "text": [
      "5090014y\n",
      "6135521f\n",
      "9031887B\n",
      "8916250j\n",
      "8608122v\n",
      "8202162W\n",
      "3871723d\n",
      "3738280c\n",
      "7640913n\n"
     ]
    }
   ],
   "source": [
    "for n in range(1, 10):\n",
    "    randomLetter = random.choice(string.ascii_letters)\n",
    "    values = randint(1000000,9999999)\n",
    "    ppsn = (str(values)+randomLetter)\n",
    "    print(ppsn)"
   ]
  },
  {
   "cell_type": "markdown",
   "metadata": {},
   "source": [
    "### Write to CSV file"
   ]
  },
  {
   "cell_type": "code",
   "execution_count": 47,
   "metadata": {},
   "outputs": [],
   "source": [
    "#https://www.echolive.ie/corknews/arid-41364103.html\n",
    "#532 adults accessed emergency accommodation in Cork\n",
    "with open('fakeageppsn.csv', 'w') as csvfile:\n",
    "    writer = csv.writer(csvfile)\n",
    "    writer.writerow(['id','Age', 'PPSN'])\n",
    "    for n in range(1, 533):\n",
    "        values = randint(1000000,9999999)\n",
    "        randomLetter = random.choice(string.ascii_letters)\n",
    "        ppsn = (str(values)+randomLetter)\n",
    "        writer.writerow((n, randint(18,80),ppsn))\n"
   ]
  },
  {
   "cell_type": "markdown",
   "metadata": {},
   "source": [
    "### Write to HTML file"
   ]
  },
  {
   "cell_type": "code",
   "execution_count": 48,
   "metadata": {},
   "outputs": [],
   "source": [
    "a = pd.read_csv(\"fakeageppsn.csv\",index_col=False) \n",
    "# to save as html file \n",
    "# named as \"Table\" \n",
    "a.to_html(\"fakeageppsn.html\",index=False) \n",
    "# assign it to a  \n",
    "# variable (string) \n",
    "html_file = a.to_html()"
   ]
  }
 ],
 "metadata": {
  "kernelspec": {
   "display_name": "Python 3 (ipykernel)",
   "language": "python",
   "name": "python3"
  },
  "language_info": {
   "codemirror_mode": {
    "name": "ipython",
    "version": 3
   },
   "file_extension": ".py",
   "mimetype": "text/x-python",
   "name": "python",
   "nbconvert_exporter": "python",
   "pygments_lexer": "ipython3",
   "version": "3.11.7"
  }
 },
 "nbformat": 4,
 "nbformat_minor": 4
}
