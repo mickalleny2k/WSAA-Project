{
 "cells": [
  {
   "cell_type": "markdown",
   "metadata": {},
   "source": [
    "# FAKE AGES AND PPS NUMBERS"
   ]
  },
  {
   "cell_type": "markdown",
   "metadata": {},
   "source": [
    "### Import Libraries"
   ]
  },
  {
   "cell_type": "code",
   "execution_count": 74,
   "metadata": {},
   "outputs": [],
   "source": [
    "import csv\n",
    "from random import randrange\n",
    "from random import randint \n",
    "import pandas as pd\n",
    "#import requests\n",
    "#import json\n",
    "import string\n",
    "import random\n",
    "import matplotlib.pyplot as plt\n"
   ]
  },
  {
   "cell_type": "markdown",
   "metadata": {},
   "source": [
    "### Generate Random Ages between 18 and 80"
   ]
  },
  {
   "cell_type": "code",
   "execution_count": 75,
   "metadata": {},
   "outputs": [
    {
     "name": "stdout",
     "output_type": "stream",
     "text": [
      "34\n",
      "63\n",
      "31\n",
      "24\n",
      "34\n",
      "32\n",
      "33\n",
      "35\n",
      "30\n"
     ]
    }
   ],
   "source": [
    "for n in range(1, 10):\n",
    "        values = randint(18,80)\n",
    "        print(values)"
   ]
  },
  {
   "cell_type": "markdown",
   "metadata": {},
   "source": [
    "### Generate Random Intgers for the PPSN"
   ]
  },
  {
   "cell_type": "code",
   "execution_count": 76,
   "metadata": {},
   "outputs": [
    {
     "name": "stdout",
     "output_type": "stream",
     "text": [
      "6729810\n",
      "5669021\n",
      "3448428\n",
      "3233280\n",
      "5140310\n",
      "8207556\n",
      "6899978\n",
      "2478503\n",
      "6631822\n"
     ]
    }
   ],
   "source": [
    "for n in range(1, 10):\n",
    "        values = randint(1000000,9999999)\n",
    "        print(values)"
   ]
  },
  {
   "cell_type": "markdown",
   "metadata": {},
   "source": [
    "### Generate Random Letters for the PPSN"
   ]
  },
  {
   "cell_type": "code",
   "execution_count": 77,
   "metadata": {},
   "outputs": [
    {
     "name": "stdout",
     "output_type": "stream",
     "text": [
      "y\n",
      "C\n",
      "V\n",
      "X\n",
      "J\n",
      "K\n",
      "N\n",
      "w\n",
      "d\n"
     ]
    }
   ],
   "source": [
    "for n in range(1, 10):\n",
    "    # Randomly choose a letter from all the ascii_letters\n",
    "    randomLetter = random.choice(string.ascii_letters)\n",
    "    print(randomLetter)"
   ]
  },
  {
   "cell_type": "markdown",
   "metadata": {},
   "source": [
    "### Generate 10 Random PPS Numbers"
   ]
  },
  {
   "cell_type": "code",
   "execution_count": 86,
   "metadata": {},
   "outputs": [
    {
     "name": "stdout",
     "output_type": "stream",
     "text": [
      "7425284v\n",
      "9478138I\n",
      "9900384f\n",
      "9549821C\n",
      "6188270C\n",
      "5297436E\n",
      "8641433G\n",
      "1039599y\n",
      "5041697t\n",
      "9275132C\n"
     ]
    }
   ],
   "source": [
    "for n in range(1, 11):\n",
    "    randomLetter = random.choice(string.ascii_letters)\n",
    "    values = randint(1000000,9999999)\n",
    "    ppsn = (str(values)+randomLetter)\n",
    "    print(ppsn)"
   ]
  },
  {
   "cell_type": "markdown",
   "metadata": {},
   "source": [
    "### Write to CSV file"
   ]
  },
  {
   "cell_type": "code",
   "execution_count": 79,
   "metadata": {},
   "outputs": [],
   "source": [
    "#https://www.echolive.ie/corknews/arid-41364103.html\n",
    "#532 adults accessed emergency accommodation in Cork\n",
    "with open('fakeageppsn.csv', 'w') as csvfile:\n",
    "    writer = csv.writer(csvfile)\n",
    "    writer.writerow(['id','Age', 'PPSN'])\n",
    "    for n in range(1, 533):\n",
    "        values = randint(1000000,9999999)\n",
    "        randomLetter = random.choice(string.ascii_letters)\n",
    "        ppsn = (str(values)+randomLetter)\n",
    "        writer.writerow((n, randint(18,80),ppsn))\n"
   ]
  },
  {
   "cell_type": "markdown",
   "metadata": {},
   "source": [
    "### Write to HTML file"
   ]
  },
  {
   "cell_type": "code",
   "execution_count": 80,
   "metadata": {},
   "outputs": [],
   "source": [
    "a = pd.read_csv(\"fakeageppsn.csv\",index_col=False) \n",
    "# to save as html file \n",
    "# named as \"Table\" \n",
    "a.to_html(\"fakeageppsn.html\",index=False) \n",
    "# assign it to a  \n",
    "# variable (string) \n",
    "html_file = a.to_html()"
   ]
  },
  {
   "cell_type": "markdown",
   "metadata": {},
   "source": [
    "### Plot the Age distribution of Cork Simon Residents"
   ]
  },
  {
   "cell_type": "code",
   "execution_count": 81,
   "metadata": {},
   "outputs": [
    {
     "data": {
      "image/png": "[encoded data removed]",
      "text/plain": [
       "<Figure size 640x480 with 1 Axes>"
      ]
     },
     "metadata": {},
     "output_type": "display_data"
    }
   ],
   "source": [
    "age = a.Age\n",
    "#plt.hist(AVG)\n",
    "#plt.show()\n",
    "\n",
    "# Creating histogram \n",
    "fig, ax = plt.subplots(1, 1) \n",
    "n, bins, patches = ax.hist(age) \n",
    "  \n",
    "# Set title \n",
    "ax.set_title(\"Age Distribution of Cork Simon Residents\") \n",
    "  \n",
    "# adding labels \n",
    "ax.set_xlabel('Age of Residents') \n",
    "ax.set_ylabel('Frequency') \n",
    "plt.savefig('age.png')\n",
    "plt.show()"
   ]
  },
  {
   "cell_type": "markdown",
   "metadata": {},
   "source": [
    "#### The mean age of Cork Simon Residents"
   ]
  },
  {
   "cell_type": "code",
   "execution_count": 82,
   "metadata": {},
   "outputs": [
    {
     "data": {
      "text/plain": [
       "50.016917293233085"
      ]
     },
     "execution_count": 82,
     "metadata": {},
     "output_type": "execute_result"
    }
   ],
   "source": [
    "mean = a.Age.mean()\n",
    "mean"
   ]
  },
  {
   "cell_type": "markdown",
   "metadata": {},
   "source": [
    "#### The age standard deviation of Cork Simon Residents"
   ]
  },
  {
   "cell_type": "code",
   "execution_count": 83,
   "metadata": {},
   "outputs": [
    {
     "data": {
      "text/plain": [
       "18.39331982562789"
      ]
     },
     "execution_count": 83,
     "metadata": {},
     "output_type": "execute_result"
    }
   ],
   "source": [
    "std = a.Age.std()\n",
    "std"
   ]
  },
  {
   "cell_type": "markdown",
   "metadata": {},
   "source": [
    "#### The minimum age of Cork Simon Residents"
   ]
  },
  {
   "cell_type": "code",
   "execution_count": 84,
   "metadata": {},
   "outputs": [
    {
     "data": {
      "text/plain": [
       "18"
      ]
     },
     "execution_count": 84,
     "metadata": {},
     "output_type": "execute_result"
    }
   ],
   "source": [
    "min = a.Age.min()\n",
    "min"
   ]
  },
  {
   "cell_type": "markdown",
   "metadata": {},
   "source": [
    "#### The maximum age of Cork Simon Residents"
   ]
  },
  {
   "cell_type": "code",
   "execution_count": 85,
   "metadata": {},
   "outputs": [
    {
     "data": {
      "text/plain": [
       "80"
      ]
     },
     "execution_count": 85,
     "metadata": {},
     "output_type": "execute_result"
    }
   ],
   "source": [
    "max = a.Age.max()\n",
    "max"
   ]
  }
 ],
 "metadata": {
  "kernelspec": {
   "display_name": "Python 3 (ipykernel)",
   "language": "python",
   "name": "python3"
  },
  "language_info": {
   "codemirror_mode": {
    "name": "ipython",
    "version": 3
   },
   "file_extension": ".py",
   "mimetype": "text/x-python",
   "name": "python",
   "nbconvert_exporter": "python",
   "pygments_lexer": "ipython3",
   "version": "3.11.7"
  }
 },
 "nbformat": 4,
 "nbformat_minor": 4
}
